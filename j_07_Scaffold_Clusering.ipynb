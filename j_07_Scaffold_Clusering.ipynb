{
 "cells": [
  {
   "cell_type": "markdown",
   "id": "e2a3f044",
   "metadata": {
    "id": "Kw1FQ7eC5Lmy"
   },
   "source": [
    "# Butina 클러스터링\n",
    "\n",
    "- [Taylor-Butina](https://pubs.acs.org/doi/pdf/10.1021/ci9803381) 클러스터링 동작 설명"
   ]
  },
  {
   "cell_type": "markdown",
   "id": "50c982d5",
   "metadata": {
    "id": "RFZBUiu65Lmz"
   },
   "source": [
    "# import"
   ]
  },
  {
   "cell_type": "code",
   "execution_count": null,
   "id": "884bb9a7",
   "metadata": {
    "colab": {
     "base_uri": "https://localhost:8080/"
    },
    "id": "GD8-miMu5Lmz",
    "outputId": "13405e1b-b3c8-474d-c13d-4e4ce4e1889a",
    "scrolled": true
   },
   "outputs": [],
   "source": [
    "!pip install rdkit mols2grid"
   ]
  },
  {
   "cell_type": "code",
   "execution_count": 1,
   "id": "a0eb78ce",
   "metadata": {
    "id": "85Lzpd425Lm0"
   },
   "outputs": [],
   "source": [
    "import pandas as pd\n",
    "import pickle\n",
    "from rdkit import Chem\n",
    "from rdkit.Chem import PandasTools, Draw\n",
    "from rdkit import DataStructs\n",
    "from rdkit.ML.Cluster import Butina\n",
    "from rdkit.Chem import rdMolDescriptors as rdmd\n",
    "from rdkit.Chem import Descriptors\n",
    "from tqdm import tqdm\n",
    "import mols2grid\n",
    "\n",
    "%config InlineBackend.figure_format = 'retina'"
   ]
  },
  {
   "cell_type": "markdown",
   "id": "882ffd3c",
   "metadata": {
    "id": "Gw_HIsp05Lm0"
   },
   "source": [
    "# 데이터\n",
    "\n",
    "- [1-2] 예제에서 저장한 COCONUT SMILES 데이터 불러오기"
   ]
  },
  {
   "cell_type": "code",
   "execution_count": 2,
   "id": "b82a0b3e",
   "metadata": {},
   "outputs": [
    {
     "name": "stdout",
     "output_type": "stream",
     "text": [
      "cid_names :\t ['CNP0000002', 'CNP0000003', 'CNP0000003.1']\n",
      "smiles :\t\t ['O=C(O)C=1C(=O)C(O)(CC(=O)C1N)C2OC(COC(=O)C)C(OC(=O)C(N=CS)=CC)C(OC3OC(C)C(O)C(OC)C3)C2O', 'O=C1OC2C(O)C=CC3C4=C5C(=O)C=6C(OC)=CC=C(OC)C6C(=O)C5=C(OC)C=C4CC32C(O)C7=CC(=CC(OC)=C17)C', 'CC1=CC(=C2C(=C1)[C@@H]([C@@]34CC5=C([C@H]4C=C[C@H]([C@H]3OC2=O)O)C6=C(C(=C5)OC)C(=O)C7=C(C(=CC=C7OC)OC)C6=O)O)OC']\n",
      "cid_len :\t 895068\n",
      "smiles_len :\t 895068\n"
     ]
    }
   ],
   "source": [
    "with open(\"./real_coconut_smiles.pkl\",\"rb\") as f:\n",
    "    coconut_smiles = pickle.load(f)\n",
    "    \n",
    "with open(\"./real_coconut_cid.pkl\",\"rb\") as f:\n",
    "    coconut_cid = pickle.load(f)\n",
    "\n",
    "print('cid_names :\\t', coconut_cid[:3])\n",
    "print('smiles :\\t\\t', coconut_smiles[:3])\n",
    "print('cid_len :\\t', len(coconut_cid))\n",
    "print('smiles_len :\\t', len(coconut_smiles))"
   ]
  },
  {
   "cell_type": "code",
   "execution_count": 3,
   "id": "8cc21ab1",
   "metadata": {},
   "outputs": [
    {
     "data": {
      "text/html": [
       "<div>\n",
       "<style scoped>\n",
       "    .dataframe tbody tr th:only-of-type {\n",
       "        vertical-align: middle;\n",
       "    }\n",
       "\n",
       "    .dataframe tbody tr th {\n",
       "        vertical-align: top;\n",
       "    }\n",
       "\n",
       "    .dataframe thead th {\n",
       "        text-align: right;\n",
       "    }\n",
       "</style>\n",
       "<table border=\"1\" class=\"dataframe\">\n",
       "  <thead>\n",
       "    <tr style=\"text-align: right;\">\n",
       "      <th></th>\n",
       "      <th>ID</th>\n",
       "      <th>SMILES</th>\n",
       "    </tr>\n",
       "  </thead>\n",
       "  <tbody>\n",
       "    <tr>\n",
       "      <th>0</th>\n",
       "      <td>CNP0000002</td>\n",
       "      <td>O=C(O)C=1C(=O)C(O)(CC(=O)C1N)C2OC(COC(=O)C)C(O...</td>\n",
       "    </tr>\n",
       "    <tr>\n",
       "      <th>1</th>\n",
       "      <td>CNP0000003</td>\n",
       "      <td>O=C1OC2C(O)C=CC3C4=C5C(=O)C=6C(OC)=CC=C(OC)C6C...</td>\n",
       "    </tr>\n",
       "    <tr>\n",
       "      <th>2</th>\n",
       "      <td>CNP0000003.1</td>\n",
       "      <td>CC1=CC(=C2C(=C1)[C@@H]([C@@]34CC5=C([C@H]4C=C[...</td>\n",
       "    </tr>\n",
       "    <tr>\n",
       "      <th>3</th>\n",
       "      <td>CNP0000004</td>\n",
       "      <td>O=C1OC2C(O)C=CC3C4=C5C(=O)C=6C=CC=C(O)C6C(=O)C...</td>\n",
       "    </tr>\n",
       "    <tr>\n",
       "      <th>4</th>\n",
       "      <td>CNP0000004.1</td>\n",
       "      <td>CC1=CC(=C2C(=C1)[C@@H]([C@@]34CC5=C([C@H]4C=C[...</td>\n",
       "    </tr>\n",
       "  </tbody>\n",
       "</table>\n",
       "</div>"
      ],
      "text/plain": [
       "             ID                                             SMILES\n",
       "0    CNP0000002  O=C(O)C=1C(=O)C(O)(CC(=O)C1N)C2OC(COC(=O)C)C(O...\n",
       "1    CNP0000003  O=C1OC2C(O)C=CC3C4=C5C(=O)C=6C(OC)=CC=C(OC)C6C...\n",
       "2  CNP0000003.1  CC1=CC(=C2C(=C1)[C@@H]([C@@]34CC5=C([C@H]4C=C[...\n",
       "3    CNP0000004  O=C1OC2C(O)C=CC3C4=C5C(=O)C=6C=CC=C(O)C6C(=O)C...\n",
       "4  CNP0000004.1  CC1=CC(=C2C(=C1)[C@@H]([C@@]34CC5=C([C@H]4C=C[..."
      ]
     },
     "execution_count": 3,
     "metadata": {},
     "output_type": "execute_result"
    }
   ],
   "source": [
    "df = pd.DataFrame({'ID' : coconut_cid[:20000], 'SMILES' : coconut_smiles[:20000]})\n",
    "df[:5]"
   ]
  },
  {
   "cell_type": "code",
   "execution_count": null,
   "id": "a56d0361",
   "metadata": {
    "colab": {
     "base_uri": "https://localhost:8080/",
     "height": 620,
     "referenced_widgets": [
      "f9afad2d1d81489292953ce3235380ff",
      "fb24b794675e436d854fccaf1fad14c2"
     ]
    },
    "id": "3opQlgeM5Lm0",
    "outputId": "ff9556de-579f-45b1-82c8-58db8b24608b"
   },
   "outputs": [],
   "source": [
    "mols2grid.display(df)"
   ]
  },
  {
   "cell_type": "markdown",
   "id": "2523c9ef",
   "metadata": {
    "id": "xrP9tLnc5Lm0"
   },
   "source": [
    "## mol 객체 추가\n",
    "- MolFromSmiles 함수 사용"
   ]
  },
  {
   "cell_type": "code",
   "execution_count": 4,
   "id": "6975aaaf",
   "metadata": {},
   "outputs": [],
   "source": [
    "# 데이터프레임에서 tqdm 사용 가능하게 설정\n",
    "# progress_apply 함수 사용\n",
    "tqdm.pandas()"
   ]
  },
  {
   "cell_type": "code",
   "execution_count": 5,
   "id": "de23b870",
   "metadata": {
    "colab": {
     "base_uri": "https://localhost:8080/",
     "height": 49,
     "referenced_widgets": [
      "7c834db7586a4dac8830ec8318b8b28b",
      "8a4ff1d132ea4c6b85659f4d283e9648",
      "3393478f5ede43159f412e67a8724947",
      "3e69762cfd5e42f684a57c7369ff7bfb",
      "ebdbf414f90e46e891a3d53014249e0d",
      "098dfbb23eda456a9b5b16a73152c07d",
      "7af6fe7371e24d7498b29d156cebac6d",
      "a2b557cdaa0f435ea007662533262c79",
      "4f77e51789f1445ab90fd748151db675",
      "103f0cd7e7604365863b46922f4de66c",
      "1d65db97310443aab37f9a80cadb6e48"
     ]
    },
    "id": "4dCc6Byk5Lm0",
    "outputId": "640d0983-d288-4a77-b16f-513fffb678b1"
   },
   "outputs": [
    {
     "name": "stderr",
     "output_type": "stream",
     "text": [
      "100%|███████████████████████████████████| 20000/20000 [00:03<00:00, 6641.76it/s]\n"
     ]
    },
    {
     "data": {
      "text/html": [
       "<div>\n",
       "<style scoped>\n",
       "    .dataframe tbody tr th:only-of-type {\n",
       "        vertical-align: middle;\n",
       "    }\n",
       "\n",
       "    .dataframe tbody tr th {\n",
       "        vertical-align: top;\n",
       "    }\n",
       "\n",
       "    .dataframe thead th {\n",
       "        text-align: right;\n",
       "    }\n",
       "</style>\n",
       "<table border=\"1\" class=\"dataframe\">\n",
       "  <thead>\n",
       "    <tr style=\"text-align: right;\">\n",
       "      <th></th>\n",
       "      <th>ID</th>\n",
       "      <th>SMILES</th>\n",
       "      <th>mol</th>\n",
       "    </tr>\n",
       "  </thead>\n",
       "  <tbody>\n",
       "    <tr>\n",
       "      <th>0</th>\n",
       "      <td>CNP0000002</td>\n",
       "      <td>O=C(O)C=1C(=O)C(O)(CC(=O)C1N)C2OC(COC(=O)C)C(O...</td>\n",
       "      <td>&lt;rdkit.Chem.rdchem.Mol object at 0x7f652378a420&gt;</td>\n",
       "    </tr>\n",
       "    <tr>\n",
       "      <th>1</th>\n",
       "      <td>CNP0000003</td>\n",
       "      <td>O=C1OC2C(O)C=CC3C4=C5C(=O)C=6C(OC)=CC=C(OC)C6C...</td>\n",
       "      <td>&lt;rdkit.Chem.rdchem.Mol object at 0x7f652378a490&gt;</td>\n",
       "    </tr>\n",
       "    <tr>\n",
       "      <th>2</th>\n",
       "      <td>CNP0000003.1</td>\n",
       "      <td>CC1=CC(=C2C(=C1)[C@@H]([C@@]34CC5=C([C@H]4C=C[...</td>\n",
       "      <td>&lt;rdkit.Chem.rdchem.Mol object at 0x7f652378a500&gt;</td>\n",
       "    </tr>\n",
       "    <tr>\n",
       "      <th>3</th>\n",
       "      <td>CNP0000004</td>\n",
       "      <td>O=C1OC2C(O)C=CC3C4=C5C(=O)C=6C=CC=C(O)C6C(=O)C...</td>\n",
       "      <td>&lt;rdkit.Chem.rdchem.Mol object at 0x7f652378a570&gt;</td>\n",
       "    </tr>\n",
       "    <tr>\n",
       "      <th>4</th>\n",
       "      <td>CNP0000004.1</td>\n",
       "      <td>CC1=CC(=C2C(=C1)[C@@H]([C@@]34CC5=C([C@H]4C=C[...</td>\n",
       "      <td>&lt;rdkit.Chem.rdchem.Mol object at 0x7f652378a5e0&gt;</td>\n",
       "    </tr>\n",
       "    <tr>\n",
       "      <th>5</th>\n",
       "      <td>CNP0000005</td>\n",
       "      <td>O=C(OC1CC(C)(CCOC(=O)C(C)(C)C)C2CC(C)(C)CC2C1O...</td>\n",
       "      <td>&lt;rdkit.Chem.rdchem.Mol object at 0x7f652378a650&gt;</td>\n",
       "    </tr>\n",
       "    <tr>\n",
       "      <th>6</th>\n",
       "      <td>CNP0000005.1</td>\n",
       "      <td>CC(C)(C)C(=O)OCC[C@@]1(C)C[C@@H]([C@H]([C@@H]2...</td>\n",
       "      <td>&lt;rdkit.Chem.rdchem.Mol object at 0x7f652378a6c0&gt;</td>\n",
       "    </tr>\n",
       "    <tr>\n",
       "      <th>7</th>\n",
       "      <td>CNP0000006</td>\n",
       "      <td>O=C1OC2C(O)C=CC3C4=C5C(=O)C=6C=CC=C(O)C6C(=O)C...</td>\n",
       "      <td>&lt;rdkit.Chem.rdchem.Mol object at 0x7f652378a730&gt;</td>\n",
       "    </tr>\n",
       "    <tr>\n",
       "      <th>8</th>\n",
       "      <td>CNP0000006.1</td>\n",
       "      <td>CC1=CC(=C2C(=C1)[C@@H]([C@@]34CC5=C([C@H]4C=C[...</td>\n",
       "      <td>&lt;rdkit.Chem.rdchem.Mol object at 0x7f652378a7a0&gt;</td>\n",
       "    </tr>\n",
       "    <tr>\n",
       "      <th>9</th>\n",
       "      <td>CNP0000007</td>\n",
       "      <td>O=C1OC(C)C(O)C12C(O)C(O)CCC2C</td>\n",
       "      <td>&lt;rdkit.Chem.rdchem.Mol object at 0x7f652378a810&gt;</td>\n",
       "    </tr>\n",
       "  </tbody>\n",
       "</table>\n",
       "</div>"
      ],
      "text/plain": [
       "             ID                                             SMILES  \\\n",
       "0    CNP0000002  O=C(O)C=1C(=O)C(O)(CC(=O)C1N)C2OC(COC(=O)C)C(O...   \n",
       "1    CNP0000003  O=C1OC2C(O)C=CC3C4=C5C(=O)C=6C(OC)=CC=C(OC)C6C...   \n",
       "2  CNP0000003.1  CC1=CC(=C2C(=C1)[C@@H]([C@@]34CC5=C([C@H]4C=C[...   \n",
       "3    CNP0000004  O=C1OC2C(O)C=CC3C4=C5C(=O)C=6C=CC=C(O)C6C(=O)C...   \n",
       "4  CNP0000004.1  CC1=CC(=C2C(=C1)[C@@H]([C@@]34CC5=C([C@H]4C=C[...   \n",
       "5    CNP0000005  O=C(OC1CC(C)(CCOC(=O)C(C)(C)C)C2CC(C)(C)CC2C1O...   \n",
       "6  CNP0000005.1  CC(C)(C)C(=O)OCC[C@@]1(C)C[C@@H]([C@H]([C@@H]2...   \n",
       "7    CNP0000006  O=C1OC2C(O)C=CC3C4=C5C(=O)C=6C=CC=C(O)C6C(=O)C...   \n",
       "8  CNP0000006.1  CC1=CC(=C2C(=C1)[C@@H]([C@@]34CC5=C([C@H]4C=C[...   \n",
       "9    CNP0000007                      O=C1OC(C)C(O)C12C(O)C(O)CCC2C   \n",
       "\n",
       "                                                mol  \n",
       "0  <rdkit.Chem.rdchem.Mol object at 0x7f652378a420>  \n",
       "1  <rdkit.Chem.rdchem.Mol object at 0x7f652378a490>  \n",
       "2  <rdkit.Chem.rdchem.Mol object at 0x7f652378a500>  \n",
       "3  <rdkit.Chem.rdchem.Mol object at 0x7f652378a570>  \n",
       "4  <rdkit.Chem.rdchem.Mol object at 0x7f652378a5e0>  \n",
       "5  <rdkit.Chem.rdchem.Mol object at 0x7f652378a650>  \n",
       "6  <rdkit.Chem.rdchem.Mol object at 0x7f652378a6c0>  \n",
       "7  <rdkit.Chem.rdchem.Mol object at 0x7f652378a730>  \n",
       "8  <rdkit.Chem.rdchem.Mol object at 0x7f652378a7a0>  \n",
       "9  <rdkit.Chem.rdchem.Mol object at 0x7f652378a810>  "
      ]
     },
     "execution_count": 5,
     "metadata": {},
     "output_type": "execute_result"
    }
   ],
   "source": [
    "df['mol'] = df.SMILES.progress_apply(Chem.MolFromSmiles)\n",
    "df[:10]"
   ]
  },
  {
   "cell_type": "markdown",
   "id": "eab1c5d8",
   "metadata": {},
   "source": [
    "## butina 클러스터링 구현\n",
    "\n",
    "- 함수 butina_cluster 정의\n",
    "\n",
    "> 1. 각 분자에 대해서 fingerprints 계산\n",
    "> 2. 각 분자간의 (pair) 유사도를 계산\n",
    "> 3. distance = 1 - similarity 로 거리 매트릭스를 계산\n",
    "> 4. 거리가 가까운 분자들에게 같은 클러스터 번호 배정 (같은 클러스터에 속하는 cutoff 지정)\n",
    "\n"
   ]
  },
  {
   "cell_type": "code",
   "execution_count": 6,
   "id": "36d89acc",
   "metadata": {
    "id": "oGHphOxa5Lm0"
   },
   "outputs": [],
   "source": [
    "def butina_cluster(mol_list,cutoff=0.35):\n",
    "    fp_list = [rdmd.GetMorganFingerprintAsBitVect(m, 3, nBits=2048) for m in mol_list]\n",
    "    dists = []\n",
    "    nfps = len(fp_list)\n",
    "    \n",
    "    for i in range(1,nfps):\n",
    "        sims = DataStructs.BulkTanimotoSimilarity(fp_list[i],fp_list[:i])\n",
    "        dists.extend([1-x for x in sims])\n",
    "    mol_clusters = Butina.ClusterData(dists,nfps,cutoff,isDistData=True)\n",
    "    cluster_id_list = [0]*nfps\n",
    "    \n",
    "    for idx,cluster in enumerate(mol_clusters, start=1):\n",
    "        for member in cluster:\n",
    "            cluster_id_list[member] = idx\n",
    "            \n",
    "    return cluster_id_list"
   ]
  },
  {
   "cell_type": "markdown",
   "id": "b3a9df1b",
   "metadata": {
    "id": "rUE0--hM5Lm0"
   },
   "source": [
    "# 클러스터링 수행\n",
    "\n",
    "- 클러스터 번호 배정"
   ]
  },
  {
   "cell_type": "code",
   "execution_count": 7,
   "id": "8ede4ea4",
   "metadata": {
    "colab": {
     "base_uri": "https://localhost:8080/"
    },
    "id": "cpCp2XUJ5Lm0",
    "outputId": "d7641ab5-6c6e-4b69-c69a-777078a143ba"
   },
   "outputs": [
    {
     "data": {
      "text/plain": [
       "Cluster\n",
       "1       308\n",
       "2       289\n",
       "4       142\n",
       "5        92\n",
       "6        88\n",
       "       ... \n",
       "4313      1\n",
       "4314      1\n",
       "4315      1\n",
       "3345      1\n",
       "5266      1\n",
       "Name: count, Length: 5266, dtype: int64"
      ]
     },
     "execution_count": 7,
     "metadata": {},
     "output_type": "execute_result"
    }
   ],
   "source": [
    "df['Cluster'] = butina_cluster(df.mol.values, 0.4)\n",
    "df['Cluster'].value_counts()"
   ]
  },
  {
   "cell_type": "code",
   "execution_count": null,
   "id": "477a9abc",
   "metadata": {
    "colab": {
     "base_uri": "https://localhost:8080/",
     "height": 748,
     "referenced_widgets": [
      "f41a46171cf6478b9ca9d19f6ea79928",
      "8b62a9f1709a4ad49a30525fda9a2fdf"
     ]
    },
    "id": "ps9ryTja5Lm1",
    "outputId": "52fcd599-ac2a-4b0a-b4bd-dd10bcd95d02"
   },
   "outputs": [],
   "source": [
    "mols2grid.display(df,subset=[\"img\",\"ID\",\"Cluster\"])"
   ]
  },
  {
   "cell_type": "markdown",
   "id": "88a481d5",
   "metadata": {
    "id": "vLu1N1Ub5Lm1"
   },
   "source": [
    "## LogP 값 보기"
   ]
  },
  {
   "cell_type": "code",
   "execution_count": 8,
   "id": "ac0eb266",
   "metadata": {
    "colab": {
     "base_uri": "https://localhost:8080/",
     "height": 49,
     "referenced_widgets": [
      "a27312249cd14cd7aa22480d21350c31",
      "841d0894455b4dd1b6f2af03e8afaa01",
      "a45c46806e4f46cb89adfe8375dd20d2",
      "6aa3ae45b79446df831f994e608125f9",
      "51300e15c6694cf691886bdc050bb8c8",
      "e202c48a8e1647d890282d1b18d08d3a",
      "98dce5ee4fb04985a8d1447af83e6957",
      "1781ec78b8f04cf0b62dbbea3df7d720",
      "c056f62d6a5d4dafb0c8b1f4f6290761",
      "bb4cc2f8ab954ac38c63d546a4fa038f",
      "7593d86e092d459f9b7a2fe8e7b7729d"
     ]
    },
    "id": "rfRxcXZJ5Lm1",
    "outputId": "5785db1c-e6a4-4385-b678-18a0ef26f591"
   },
   "outputs": [
    {
     "name": "stderr",
     "output_type": "stream",
     "text": [
      "100%|███████████████████████████████████| 20000/20000 [00:06<00:00, 3016.03it/s]\n"
     ]
    }
   ],
   "source": [
    "df[\"logP\"] = df.mol.progress_apply(Descriptors.MolLogP)"
   ]
  },
  {
   "cell_type": "code",
   "execution_count": null,
   "id": "cefb8431",
   "metadata": {
    "colab": {
     "base_uri": "https://localhost:8080/",
     "height": 812,
     "referenced_widgets": [
      "0f035e913774483c966e4ff82f341fce",
      "67471582f77d40adaf1a9462b60a7f9d"
     ]
    },
    "id": "FyOtUeDt5Lm1",
    "outputId": "1ff874f1-9fd2-4376-8dad-8633789f94c0"
   },
   "outputs": [],
   "source": [
    "mols2grid.display(df,subset=[\"img\",\"ID\",\"Cluster\",\"logP\"],transform={\"logP\": lambda x: f\"{x:.2f}\"})"
   ]
  },
  {
   "cell_type": "markdown",
   "id": "df5ccd5e",
   "metadata": {
    "id": "_j35MOYn5Lm1"
   },
   "source": [
    "- **Cluster** 번호와 **logP** 값으로 소팅 수행"
   ]
  },
  {
   "cell_type": "code",
   "execution_count": 9,
   "id": "87ec0c7a",
   "metadata": {
    "id": "hC7VJrg95Lm1"
   },
   "outputs": [],
   "source": [
    "df.sort_values([\"Cluster\",\"logP\"],inplace=True)"
   ]
  },
  {
   "cell_type": "code",
   "execution_count": null,
   "id": "cc92b75f",
   "metadata": {
    "colab": {
     "base_uri": "https://localhost:8080/",
     "height": 812,
     "referenced_widgets": [
      "db89fe62cf3f4c4e976de9813bbc8276",
      "dd5228aa438048fca6db46f90f964f91"
     ]
    },
    "id": "74JodbAH5Lm1",
    "outputId": "192ba64e-7b85-4a3b-83cc-9940a810dd12",
    "scrolled": true
   },
   "outputs": [],
   "source": [
    "mols2grid.display(df,subset=[\"img\",\"ID\",\"Cluster\",\"logP\"],\n",
    "                  transform={\"logP\": lambda x: f\"{x:.2f}\"})"
   ]
  },
  {
   "cell_type": "markdown",
   "id": "0e122dd2",
   "metadata": {
    "id": "VAGDlyRD5Lm1"
   },
   "source": [
    "## 가장 작은 LogP를 갖는 샘플 찾기\n",
    "- [drop_duplicates](https://pandas.pydata.org/pandas-docs/stable/reference/api/pandas.DataFrame.drop_duplicates.html)를 사용하면 두번째 이후의 중복된 샘플을 제거하므로 클러스터별로 가장 작은 LogP 샘플 하나씩을 얻는다"
   ]
  },
  {
   "cell_type": "code",
   "execution_count": 10,
   "id": "faa60493",
   "metadata": {
    "id": "ZQo-ODAK5Lm1"
   },
   "outputs": [],
   "source": [
    "df_unique = df.drop_duplicates(\"Cluster\")"
   ]
  },
  {
   "cell_type": "code",
   "execution_count": null,
   "id": "ced1c1d7",
   "metadata": {
    "colab": {
     "base_uri": "https://localhost:8080/",
     "height": 812,
     "referenced_widgets": [
      "f1a48f8d34c04b69862176c7c4e1fd5c",
      "3b717cfd15274a49bb4ea3889add9275"
     ]
    },
    "id": "DR5AyFx65Lm1",
    "outputId": "e2f29562-3bce-47a4-e773-86083707eed5",
    "scrolled": false
   },
   "outputs": [],
   "source": [
    "mols2grid.display(df_unique,subset=[\"img\",\"ID\",\"Cluster\",\"logP\"],transform={\"logP\": lambda x: f\"{x:.2f}\"})"
   ]
  },
  {
   "cell_type": "code",
   "execution_count": null,
   "id": "b55b1d93",
   "metadata": {},
   "outputs": [],
   "source": []
  },
  {
   "cell_type": "code",
   "execution_count": null,
   "id": "3671e515",
   "metadata": {},
   "outputs": [],
   "source": []
  }
 ],
 "metadata": {
  "kernelspec": {
   "display_name": "AI_study",
   "language": "python",
   "name": "ai_study"
  },
  "language_info": {
   "codemirror_mode": {
    "name": "ipython",
    "version": 3
   },
   "file_extension": ".py",
   "mimetype": "text/x-python",
   "name": "python",
   "nbconvert_exporter": "python",
   "pygments_lexer": "ipython3",
   "version": "3.10.12"
  }
 },
 "nbformat": 4,
 "nbformat_minor": 5
}
